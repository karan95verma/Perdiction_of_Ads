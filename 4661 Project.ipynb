{
 "cells": [
  {
   "cell_type": "code",
   "execution_count": 1,
   "metadata": {},
   "outputs": [
    {
     "name": "stderr",
     "output_type": "stream",
     "text": [
      "C:\\Users\\karan\\Anaconda3\\lib\\site-packages\\sklearn\\cross_validation.py:41: DeprecationWarning: This module was deprecated in version 0.18 in favor of the model_selection module into which all the refactored classes and functions are moved. Also note that the interface of the new CV iterators are different from that of this module. This module will be removed in 0.20.\n",
      "  \"This module will be removed in 0.20.\", DeprecationWarning)\n",
      "C:\\Users\\karan\\Anaconda3\\lib\\site-packages\\sklearn\\ensemble\\weight_boosting.py:29: DeprecationWarning: numpy.core.umath_tests is an internal NumPy module and should not be imported. It will be removed in a future NumPy release.\n",
      "  from numpy.core.umath_tests import inner1d\n"
     ]
    }
   ],
   "source": [
    "from sklearn.cross_validation import train_test_split\n",
    "import pandas as pd\n",
    "from sklearn.tree import DecisionTreeClassifier\n",
    "from sklearn.linear_model import LogisticRegression\n",
    "from sklearn.ensemble import RandomForestClassifier\n",
    "from sklearn.neighbors import KNeighborsClassifier\n",
    "from sklearn.metrics import accuracy_score\n",
    "import sklearn.preprocessing as preprocess\n",
    "from sklearn.decomposition import PCA\n",
    "from sklearn.model_selection import cross_val_score\n",
    "from sklearn import svm"
   ]
  },
  {
   "cell_type": "markdown",
   "metadata": {},
   "source": [
    "# Reading the file From Github Repo"
   ]
  },
  {
   "cell_type": "code",
   "execution_count": 2,
   "metadata": {},
   "outputs": [],
   "source": [
    "#df = pd.read_csv(\"training.csv\")\n",
    "#df = pd.read_csv(\"C:/Users/KARAN/Desktop/train.csv\")\n",
    "\n",
    "df = pd.read_csv(\"https://raw.githubusercontent.com/karan95verma/Perdiction_of_Ads/master/training.csv\")"
   ]
  },
  {
   "cell_type": "code",
   "execution_count": 3,
   "metadata": {},
   "outputs": [
    {
     "name": "stdout",
     "output_type": "stream",
     "text": [
      "                ID          datetime     siteid  offerid  category  merchant  \\\n",
      "0        IDsrk7SoW  14-01-2017 09:42  4709696.0   887235     17714  20301556   \n",
      "1        IDmMSxHur  18-01-2017 17:50  5189467.0   178235     21407   9434818   \n",
      "2        IDVLNN0Ut  11-01-2017 12:46    98480.0   518539     25085   2050923   \n",
      "3        ID32T6wwQ  17-01-2017 10:18  8896401.0   390352     40339  72089744   \n",
      "4        IDqUShzMg  14-01-2017 16:02  5635120.0   472937     12052  39507200   \n",
      "5        IDjO9XQ1Z  14-01-2017 12:08  2729292.0   961176     33638  47079934   \n",
      "6        IDUuVWVrO  12-01-2017 13:07  7007059.0   664666     68847  58604466   \n",
      "7        IDFnmhUgG  13-01-2017 05:58  7295565.0   144797     33638  23981625   \n",
      "8        IDeFBJfzG  18-01-2017 13:00  2116058.0   376073     15912  30860214   \n",
      "9        IDmyijsRf  14-01-2017 12:38  5329483.0   952097     89680  74363610   \n",
      "10       IDGQGYgdk  14-01-2017 11:06  6436389.0   949077     76239  65017662   \n",
      "11       IDeS7iMpY  12-01-2017 03:36  6401189.0    68770     43612  74868704   \n",
      "12       IDZHmfQix  18-01-2017 14:52  6139730.0   781977     97863  56008048   \n",
      "13       IDdPZWVCs  15-01-2017 21:43  6718234.0   433512     43612  57517812   \n",
      "14       IDTLINkkm  18-01-2017 10:11  2797042.0   901997     17714  26391770   \n",
      "15       IDGy4Wuri  12-01-2017 13:39  6313991.0    31957     71642  27723861   \n",
      "16       IDU8ukCsv  10-01-2017 15:28   469603.0   385750     93286   7122654   \n",
      "17       IDuAAOAmP  14-01-2017 14:26  4260541.0   301045     17714  26391770   \n",
      "18       IDXCdNpGo  18-01-2017 16:38  7444049.0   493707     12211  58163546   \n",
      "19       IDIUehaGQ  18-01-2017 09:10   291279.0   640355     41706   4000296   \n",
      "20       IDTERaNhD  17-01-2017 12:45    48650.0   746289     81229  35819606   \n",
      "21       ID1lU14Ye  10-01-2017 17:38  7147868.0   843837       904   2050923   \n",
      "22       IDf7miO2n  13-01-2017 12:58  6510239.0   437670     34670  78365183   \n",
      "23       IDbnADIXD  14-01-2017 15:01  3723198.0   539380     10345  33683592   \n",
      "24       IDvdxeuet  19-01-2017 10:33  8538828.0   771257     73248  57777528   \n",
      "25       IDHq4islp  16-01-2017 14:00  5914861.0   512213     42227  95013373   \n",
      "26       IDocQA3op  18-01-2017 06:04  3230001.0   681102     96184  93157824   \n",
      "27       IDlxCNF5H  14-01-2017 13:31  8672716.0   287296     79668  81758577   \n",
      "28       IDjWl6pbZ  11-01-2017 17:25  4989750.0   461432     73248  83960204   \n",
      "29       IDnBzdWGA  10-01-2017 14:38  8022638.0   416718     64452  65017662   \n",
      "...            ...               ...        ...      ...       ...       ...   \n",
      "1048545  IDRo15MS7  13-01-2017 08:39  7400214.0   134694     54343  71193712   \n",
      "1048546  IDMxYgnpW  11-01-2017 16:54  9513402.0   213896     17714  26391770   \n",
      "1048547  ID4xcZYJO  16-01-2017 12:34  7841213.0   463384     40339  30860214   \n",
      "1048548  IDdyTGS21  20-01-2017 11:26  9631468.0   197452     42227  13742268   \n",
      "1048549  IDtbkr06U  15-01-2017 18:16  5849272.0   905664     14345    555603   \n",
      "1048550  IDpAIYEVz  13-01-2017 11:54  7801762.0   628311     40339  50706198   \n",
      "1048551  IDfAATodL  11-01-2017 18:18  9239851.0   839501     33638    555603   \n",
      "1048552  IDyIozCZ8  14-01-2017 12:21        NaN   369601     65251  57977218   \n",
      "1048553  ID8PySV5X  13-01-2017 13:43  1095243.0    32172     82877  38492160   \n",
      "1048554  IDAktyo1e  11-01-2017 18:50  8955291.0   558469      8467  22339104   \n",
      "1048555  IDxs23zHy  11-01-2017 13:25        NaN   579093     37815  34211073   \n",
      "1048556  IDhVlXQcI  11-01-2017 16:28  2766596.0   992381     42227  48913006   \n",
      "1048557  IDpfnAw1Y  20-01-2017 12:53   984981.0   164941     42227  83172146   \n",
      "1048558  IDulwGu6P  10-01-2017 12:45   814990.0   301389     33638    555603   \n",
      "1048559  IDMrRnBE8  15-01-2017 09:58  1466152.0   518667     73248  61940782   \n",
      "1048560  ID40csLly  13-01-2017 10:15  9574574.0   334008      6906  99510044   \n",
      "1048561  IDUxSxaf4  12-01-2017 17:20  4403738.0   819596     53956  52437512   \n",
      "1048562  IDAHsmEsc  13-01-2017 10:20        NaN   152610     31365  20301556   \n",
      "1048563  ID2PqkL9K  18-01-2017 09:53  1016035.0   588714     92704  87213653   \n",
      "1048564  IDyBHpeCK  10-01-2017 02:05  2513971.0   118283      6906  99510044   \n",
      "1048565  ID7vr5dIJ  16-01-2017 07:00  1021808.0   238520     46450  47079934   \n",
      "1048566  ID8oUK2me  17-01-2017 12:26  3032043.0   939067     67817  51368560   \n",
      "1048567  IDramRsq2  20-01-2017 17:45   393721.0   706479     15912  30860214   \n",
      "1048568  ID9ICCAPE  20-01-2017 17:13  9210864.0   653799     11837  43179292   \n",
      "1048569  ID9Fnm6F4  10-01-2017 18:41        NaN   705545     12211  37017006   \n",
      "1048570  IDM8WzigB  11-01-2017 14:52  5604912.0   874854     33949  48644561   \n",
      "1048571  IDGxw80iw  16-01-2017 16:47        NaN   751397     35368  74868704   \n",
      "1048572  IDgfJAS1P  13-01-2017 09:19  9385494.0   965311     40339  37135965   \n",
      "1048573  ID5PG0Xmd  15-01-2017 17:00  4548050.0   489739     86652  29916445   \n",
      "1048574  IDn3sDeit  17-01-2017 17:37  6324097.0   615606     14345    555603   \n",
      "\n",
      "        countrycode         browserid    devid  click  \n",
      "0                 e           Firefox      NaN      0  \n",
      "1                 b   Mozilla Firefox  Desktop      0  \n",
      "2                 a              Edge      NaN      0  \n",
      "3                 c           Firefox   Mobile      0  \n",
      "4                 d   Mozilla Firefox  Desktop      0  \n",
      "5                 e     Google Chrome   Mobile      0  \n",
      "6                 b              Edge      NaN      0  \n",
      "7                 b           Firefox   Mobile      0  \n",
      "8                 c              Edge   Tablet      0  \n",
      "9                 a              Edge   Tablet      0  \n",
      "10                a              Edge   Tablet      0  \n",
      "11                b     Google Chrome   Mobile      0  \n",
      "12                b   Mozilla Firefox  Desktop      0  \n",
      "13                c               NaN  Desktop      1  \n",
      "14                a           Mozilla  Desktop      0  \n",
      "15                a              Edge   Tablet      0  \n",
      "16                a     Google Chrome   Mobile      1  \n",
      "17                b           Firefox   Mobile      0  \n",
      "18                a     Google Chrome   Mobile      0  \n",
      "19                a   Mozilla Firefox  Desktop      0  \n",
      "20                b              Edge   Tablet      0  \n",
      "21                b           Mozilla  Desktop      0  \n",
      "22                a              Edge   Tablet      0  \n",
      "23                f           Mozilla  Desktop      0  \n",
      "24                a               NaN   Tablet      0  \n",
      "25                b           Mozilla  Desktop      0  \n",
      "26                a           Mozilla      NaN      0  \n",
      "27                b              Edge   Tablet      0  \n",
      "28                a               NaN   Mobile      0  \n",
      "29                b            Chrome  Desktop      0  \n",
      "...             ...               ...      ...    ...  \n",
      "1048545           a              Edge   Tablet      0  \n",
      "1048546           f           Mozilla  Desktop      0  \n",
      "1048547           e           Firefox      NaN      0  \n",
      "1048548           b   Mozilla Firefox  Desktop      0  \n",
      "1048549           b   Mozilla Firefox  Desktop      0  \n",
      "1048550           a           Firefox   Mobile      0  \n",
      "1048551           a           Firefox   Mobile      0  \n",
      "1048552           b     Google Chrome   Mobile      0  \n",
      "1048553           b     Google Chrome   Mobile      0  \n",
      "1048554           b     Google Chrome   Mobile      0  \n",
      "1048555           b           Firefox   Mobile      0  \n",
      "1048556           a  InternetExplorer  Desktop      0  \n",
      "1048557           c           Firefox   Mobile      0  \n",
      "1048558           c           Firefox      NaN      0  \n",
      "1048559           b              Edge      NaN      0  \n",
      "1048560           a              Edge   Tablet      0  \n",
      "1048561           b              Edge   Tablet      0  \n",
      "1048562           b           Firefox      NaN      0  \n",
      "1048563           e                IE   Mobile      0  \n",
      "1048564           b   Mozilla Firefox  Desktop      0  \n",
      "1048565           b           Firefox      NaN      0  \n",
      "1048566           f              Edge      NaN      0  \n",
      "1048567           b              Edge   Tablet      0  \n",
      "1048568           a              Edge   Tablet      0  \n",
      "1048569           b           Mozilla  Desktop      0  \n",
      "1048570           b   Mozilla Firefox  Desktop      0  \n",
      "1048571           b   Mozilla Firefox  Desktop      0  \n",
      "1048572           b           Firefox   Mobile      0  \n",
      "1048573           d           Firefox   Mobile      0  \n",
      "1048574           a            Chrome  Desktop      0  \n",
      "\n",
      "[1048575 rows x 10 columns]\n"
     ]
    }
   ],
   "source": [
    "print (df)"
   ]
  },
  {
   "cell_type": "code",
   "execution_count": 4,
   "metadata": {},
   "outputs": [
    {
     "name": "stdout",
     "output_type": "stream",
     "text": [
      "2500\n",
      "2500\n"
     ]
    }
   ],
   "source": [
    "df_zero = df[df['click']==0]\n",
    "df_one = df[df['click']==1]\n",
    "df_zero = df_zero[:2500]\n",
    "df_one = df_one[:2500]\n",
    "print(len(df_zero))\n",
    "print(len(df_one))"
   ]
  },
  {
   "cell_type": "code",
   "execution_count": 5,
   "metadata": {},
   "outputs": [
    {
     "data": {
      "text/html": [
       "<div>\n",
       "<style scoped>\n",
       "    .dataframe tbody tr th:only-of-type {\n",
       "        vertical-align: middle;\n",
       "    }\n",
       "\n",
       "    .dataframe tbody tr th {\n",
       "        vertical-align: top;\n",
       "    }\n",
       "\n",
       "    .dataframe thead th {\n",
       "        text-align: right;\n",
       "    }\n",
       "</style>\n",
       "<table border=\"1\" class=\"dataframe\">\n",
       "  <thead>\n",
       "    <tr style=\"text-align: right;\">\n",
       "      <th></th>\n",
       "      <th>ID</th>\n",
       "      <th>datetime</th>\n",
       "      <th>siteid</th>\n",
       "      <th>offerid</th>\n",
       "      <th>category</th>\n",
       "      <th>merchant</th>\n",
       "      <th>countrycode</th>\n",
       "      <th>browserid</th>\n",
       "      <th>devid</th>\n",
       "      <th>click</th>\n",
       "    </tr>\n",
       "  </thead>\n",
       "  <tbody>\n",
       "    <tr>\n",
       "      <th>0</th>\n",
       "      <td>IDsrk7SoW</td>\n",
       "      <td>14-01-2017 09:42</td>\n",
       "      <td>4709696.0</td>\n",
       "      <td>887235</td>\n",
       "      <td>17714</td>\n",
       "      <td>20301556</td>\n",
       "      <td>e</td>\n",
       "      <td>Firefox</td>\n",
       "      <td>NaN</td>\n",
       "      <td>0</td>\n",
       "    </tr>\n",
       "    <tr>\n",
       "      <th>1</th>\n",
       "      <td>IDmMSxHur</td>\n",
       "      <td>18-01-2017 17:50</td>\n",
       "      <td>5189467.0</td>\n",
       "      <td>178235</td>\n",
       "      <td>21407</td>\n",
       "      <td>9434818</td>\n",
       "      <td>b</td>\n",
       "      <td>Mozilla Firefox</td>\n",
       "      <td>Desktop</td>\n",
       "      <td>0</td>\n",
       "    </tr>\n",
       "    <tr>\n",
       "      <th>2</th>\n",
       "      <td>IDVLNN0Ut</td>\n",
       "      <td>11-01-2017 12:46</td>\n",
       "      <td>98480.0</td>\n",
       "      <td>518539</td>\n",
       "      <td>25085</td>\n",
       "      <td>2050923</td>\n",
       "      <td>a</td>\n",
       "      <td>Edge</td>\n",
       "      <td>NaN</td>\n",
       "      <td>0</td>\n",
       "    </tr>\n",
       "    <tr>\n",
       "      <th>3</th>\n",
       "      <td>ID32T6wwQ</td>\n",
       "      <td>17-01-2017 10:18</td>\n",
       "      <td>8896401.0</td>\n",
       "      <td>390352</td>\n",
       "      <td>40339</td>\n",
       "      <td>72089744</td>\n",
       "      <td>c</td>\n",
       "      <td>Firefox</td>\n",
       "      <td>Mobile</td>\n",
       "      <td>0</td>\n",
       "    </tr>\n",
       "    <tr>\n",
       "      <th>4</th>\n",
       "      <td>IDqUShzMg</td>\n",
       "      <td>14-01-2017 16:02</td>\n",
       "      <td>5635120.0</td>\n",
       "      <td>472937</td>\n",
       "      <td>12052</td>\n",
       "      <td>39507200</td>\n",
       "      <td>d</td>\n",
       "      <td>Mozilla Firefox</td>\n",
       "      <td>Desktop</td>\n",
       "      <td>0</td>\n",
       "    </tr>\n",
       "  </tbody>\n",
       "</table>\n",
       "</div>"
      ],
      "text/plain": [
       "          ID          datetime     siteid  offerid  category  merchant  \\\n",
       "0  IDsrk7SoW  14-01-2017 09:42  4709696.0   887235     17714  20301556   \n",
       "1  IDmMSxHur  18-01-2017 17:50  5189467.0   178235     21407   9434818   \n",
       "2  IDVLNN0Ut  11-01-2017 12:46    98480.0   518539     25085   2050923   \n",
       "3  ID32T6wwQ  17-01-2017 10:18  8896401.0   390352     40339  72089744   \n",
       "4  IDqUShzMg  14-01-2017 16:02  5635120.0   472937     12052  39507200   \n",
       "\n",
       "  countrycode        browserid    devid  click  \n",
       "0           e          Firefox      NaN      0  \n",
       "1           b  Mozilla Firefox  Desktop      0  \n",
       "2           a             Edge      NaN      0  \n",
       "3           c          Firefox   Mobile      0  \n",
       "4           d  Mozilla Firefox  Desktop      0  "
      ]
     },
     "execution_count": 5,
     "metadata": {},
     "output_type": "execute_result"
    }
   ],
   "source": [
    "df_zero.head()"
   ]
  },
  {
   "cell_type": "code",
   "execution_count": 6,
   "metadata": {},
   "outputs": [
    {
     "name": "stdout",
     "output_type": "stream",
     "text": [
      "             ID          datetime     siteid  offerid  category  merchant  \\\n",
      "0     IDdPZWVCs  15-01-2017 21:43  6718234.0   433512     43612  57517812   \n",
      "1     IDU8ukCsv  10-01-2017 15:28   469603.0   385750     93286   7122654   \n",
      "2     IDfEQxvi3  14-01-2017 19:01  5369414.0   513860     27655  92826840   \n",
      "3     IDbF2aKjs  11-01-2017 19:21  6005717.0   956737      1678  60293830   \n",
      "4     IDEgpeME8  16-01-2017 14:29  7979331.0   501647     68947  58321067   \n",
      "5     ID0SqwVVC  17-01-2017 00:04  2092870.0   400635     43897  46512126   \n",
      "6     IDN439rpK  20-01-2017 12:49    94250.0   527842     23576  16150900   \n",
      "7     IDd9dRKG1  15-01-2017 01:00  7885100.0   913591     15912   7181598   \n",
      "8     IDA9DGtL9  15-01-2017 06:30  9335708.0   188867      3643    555603   \n",
      "9     IDLM0u0QM  16-01-2017 02:56  5571806.0   103249     40339  43452411   \n",
      "10    IDY7aCYRs  13-01-2017 13:25  8476528.0   945081     41706   4000296   \n",
      "11    IDLBtW0hS  13-01-2017 20:05  2148269.0   995962     80554   7122654   \n",
      "12    IDKkm1yRm  17-01-2017 08:31  6357104.0   197970     82877  78406516   \n",
      "13    IDmCaFQkJ  15-01-2017 14:30  1321785.0   141439     48498  30860214   \n",
      "14    ID0VuR9R1  11-01-2017 17:08  6998887.0   476429      6906  99510044   \n",
      "15    IDxJJspc3  10-01-2017 14:50  9316347.0   282356     33287  23341324   \n",
      "16    IDV0IQaQq  19-01-2017 17:38  4510569.0   189942     92704  29624796   \n",
      "17    IDg4fDt5B  15-01-2017 13:51  2542673.0   231649     92902  78406516   \n",
      "18    IDBZHCyYA  13-01-2017 14:38        NaN   775324      6906  99510044   \n",
      "19    IDiE6o6rw  16-01-2017 07:27  5206322.0   640418     63435  91553313   \n",
      "20    IDwBWNfQj  13-01-2017 01:07  9108914.0   736393     45620  54630329   \n",
      "21    IDH7qvJVb  12-01-2017 13:52  7639385.0   589473     92704  91553313   \n",
      "22    IDpSI2hjf  11-01-2017 22:46    59336.0   836901     46450  54630329   \n",
      "23    IDe0LJccb  16-01-2017 17:58  7803296.0   191706     97863   8837581   \n",
      "24    IDKbLhp64  13-01-2017 15:56  2296566.0   261066      6906  99510044   \n",
      "25    ID0U4uLhR  13-01-2017 17:09  9469286.0   562863      3643    555603   \n",
      "26    IDEsA6qUY  19-01-2017 16:50  2673485.0   251531     64452  77068781   \n",
      "27    IDPj4WE2f  11-01-2017 11:38  5559817.0   972561     17714  29916445   \n",
      "28    IDg57oMPM  14-01-2017 10:24  3750885.0   567719     35368  12817537   \n",
      "29    IDrmzvqwa  11-01-2017 22:38  3768424.0   712555      6906  98830533   \n",
      "...         ...               ...        ...      ...       ...       ...   \n",
      "4970  IDNpdWTXs  20-01-2017 03:26  3376249.0   306459     27113  61940782   \n",
      "4971  IDLfwuCtw  16-01-2017 14:55        NaN    38226     62809  74868704   \n",
      "4972  ID4M8R6pC  16-01-2017 17:10  9107050.0   460846     41640  29916445   \n",
      "4973  IDZluCLOv  20-01-2017 10:11        NaN   597835     26162  20116446   \n",
      "4974  IDaGBap9g  17-01-2017 11:08  4743942.0   739198     78021   4000296   \n",
      "4975  IDDWvaXOn  12-01-2017 17:52  1128373.0   711333     68947  26929326   \n",
      "4976  IDjTsQmf0  18-01-2017 16:51        NaN   887643     15912   5716520   \n",
      "4977  ID36nIu2J  11-01-2017 18:45  4341596.0   273854     45290  74868704   \n",
      "4978  IDq0meCOx  18-01-2017 09:07  5685617.0   304192     14960  86084476   \n",
      "4979  IDWMXjRHr  15-01-2017 13:38  3963904.0   907329     31365  74363610   \n",
      "4980  IDPLExEIw  18-01-2017 11:30  6867752.0   705732     48498  54526992   \n",
      "4981  IDcdUyVyL  11-01-2017 19:41  5671724.0   371615     54916  32912111   \n",
      "4982  IDSyZsOVz  12-01-2017 15:09  4606668.0   995984     23576  17990842   \n",
      "4983  IDyvOM6Pn  17-01-2017 15:07  1249650.0   197964     43897   7122654   \n",
      "4984  IDD9ROdz5  12-01-2017 13:42        NaN   121982     83091  26391770   \n",
      "4985  IDaZzBdns  17-01-2017 06:56  3665704.0   427637     42227  96823930   \n",
      "4986  ID9pI83mI  13-01-2017 13:43        NaN   436635     45620  31388981   \n",
      "4987  IDxSXCLEb  14-01-2017 12:47  7174151.0   687664     62949  81968512   \n",
      "4988  IDjWQglZs  11-01-2017 17:13  4409551.0   216231     80554   7122654   \n",
      "4989  IDkGscywR  15-01-2017 18:21  9385466.0   218914     56811  51330651   \n",
      "4990  IDF0PUzHb  11-01-2017 16:38  3690104.0   900144     54125  67290861   \n",
      "4991  ID78RP97n  17-01-2017 02:46   187884.0   212836      6906  71165566   \n",
      "4992  IDFsGqgaE  11-01-2017 12:45        NaN   662074     54916  62201833   \n",
      "4993  IDNJrvAwi  15-01-2017 11:43  8946231.0   684166     25491  79474990   \n",
      "4994  IDoIV9CGq  13-01-2017 16:45  1571651.0   224771     73362  67274540   \n",
      "4995  ID2imQNFh  20-01-2017 14:54        NaN   188137     17118   7122654   \n",
      "4996  IDvy0XaRm  20-01-2017 16:38  9080966.0   705487     42227  96823930   \n",
      "4997  IDppZccQ4  14-01-2017 09:54  6982943.0   739843     23576  45446370   \n",
      "4998  IDlkzyybn  19-01-2017 09:55  8061693.0   542879     53956  69514806   \n",
      "4999  IDUSStvRj  10-01-2017 12:23        NaN    22740     54916  99558603   \n",
      "\n",
      "     countrycode         browserid    devid  click  \n",
      "0              c               NaN  Desktop      1  \n",
      "1              a     Google Chrome   Mobile      1  \n",
      "2              f     Google Chrome   Mobile      1  \n",
      "3              f  InternetExplorer  Desktop      1  \n",
      "4              f           Mozilla  Desktop      1  \n",
      "5              c           Firefox   Mobile      1  \n",
      "6              c            Safari   Tablet      1  \n",
      "7              d           Firefox   Mobile      1  \n",
      "8              d               NaN   Mobile      1  \n",
      "9              a  InternetExplorer  Desktop      1  \n",
      "10             c           Mozilla  Desktop      1  \n",
      "11             c  InternetExplorer  Desktop      1  \n",
      "12             c           Firefox   Mobile      1  \n",
      "13             d     Google Chrome   Mobile      1  \n",
      "14             d               NaN   Mobile      1  \n",
      "15             a     Google Chrome   Mobile      1  \n",
      "16             d  InternetExplorer  Desktop      1  \n",
      "17             c   Mozilla Firefox      NaN      1  \n",
      "18             d  InternetExplorer      NaN      1  \n",
      "19             c     Google Chrome   Mobile      1  \n",
      "20             d   Mozilla Firefox  Desktop      1  \n",
      "21             d  InternetExplorer  Desktop      1  \n",
      "22             b  InternetExplorer  Desktop      1  \n",
      "23             d  InternetExplorer  Desktop      1  \n",
      "24             c  InternetExplorer      NaN      1  \n",
      "25             d  InternetExplorer  Desktop      1  \n",
      "26             c  InternetExplorer      NaN      1  \n",
      "27             c               NaN  Desktop      1  \n",
      "28             b  InternetExplorer  Desktop      1  \n",
      "29             d  InternetExplorer  Desktop      1  \n",
      "...          ...               ...      ...    ...  \n",
      "4970           b                IE   Mobile      0  \n",
      "4971           a              Edge   Tablet      0  \n",
      "4972           d              Edge   Tablet      0  \n",
      "4973           a           Firefox   Mobile      0  \n",
      "4974           b   Mozilla Firefox      NaN      0  \n",
      "4975           b           Firefox   Mobile      0  \n",
      "4976           d                IE   Mobile      0  \n",
      "4977           b           Firefox   Mobile      0  \n",
      "4978           b            Chrome      NaN      0  \n",
      "4979           b           Firefox   Mobile      0  \n",
      "4980           f              Edge   Tablet      0  \n",
      "4981           b           Firefox   Mobile      0  \n",
      "4982           a           Mozilla  Desktop      0  \n",
      "4983           f   Mozilla Firefox  Desktop      0  \n",
      "4984           e              Edge   Tablet      0  \n",
      "4985           b           Firefox   Mobile      0  \n",
      "4986           c              Edge   Tablet      0  \n",
      "4987           a              Edge   Tablet      0  \n",
      "4988           a               NaN   Mobile      0  \n",
      "4989           b           Firefox   Mobile      0  \n",
      "4990           f   Mozilla Firefox  Desktop      0  \n",
      "4991           a              Edge   Tablet      0  \n",
      "4992           f           Mozilla      NaN      0  \n",
      "4993           a              Edge   Tablet      0  \n",
      "4994           c           Firefox      NaN      0  \n",
      "4995           a              Edge   Tablet      0  \n",
      "4996           a           Firefox      NaN      0  \n",
      "4997           b           Firefox   Mobile      0  \n",
      "4998           b     Google Chrome   Mobile      0  \n",
      "4999           a           Firefox   Mobile      0  \n",
      "\n",
      "[5000 rows x 10 columns]\n"
     ]
    }
   ],
   "source": [
    "df_combined = df_one.append(df_zero,ignore_index=True)\n",
    "print (df_combined)"
   ]
  },
  {
   "cell_type": "code",
   "execution_count": 7,
   "metadata": {},
   "outputs": [
    {
     "name": "stdout",
     "output_type": "stream",
     "text": [
      "             ID          datetime     siteid  offerid  category  merchant  \\\n",
      "3615  IDGev7Hqh  11-01-2017 08:43  5449810.0   543897     80692  74868704   \n",
      "1319  ID87IfZvC  20-01-2017 09:00  8674669.0   738456     22023  48644561   \n",
      "4139  IDEoIlQ1b  15-01-2017 08:26  7948446.0   618774     53956  52437512   \n",
      "3904  IDn1Kpx69  16-01-2017 14:22  4032920.0   406070     15912   7864011   \n",
      "2330  IDVAYtRkn  19-01-2017 03:07  3539408.0    41436      5602  72451969   \n",
      "1010  IDTvQksXC  19-01-2017 21:57  4985579.0   600754     43897  18243870   \n",
      "4125  ID2UO881a  11-01-2017 05:26  9489992.0   466538     70384  14032724   \n",
      "4813  IDsw6PDWz  14-01-2017 15:34  1901017.0   220446     66786  20301556   \n",
      "2978  IDweXr48M  14-01-2017 09:06  3544355.0   889613     93286  94930037   \n",
      "4991  ID78RP97n  17-01-2017 02:46   187884.0   212836      6906  71165566   \n",
      "3270  IDNfp8mab  11-01-2017 19:04  4974141.0   187621     10345  26461535   \n",
      "2312  ID9MOz2Xa  12-01-2017 14:31   219304.0   988312     61208  39603421   \n",
      "698   IDEHgqrsv  10-01-2017 08:20  9114482.0   918977     43612  26391770   \n",
      "4810  IDcbdGiGn  16-01-2017 15:21  1199396.0   424770     20322  30860214   \n",
      "1506  ID5qCYZRD  13-01-2017 23:21  9232468.0   232638     35046  31388981   \n",
      "2710  IDRQgJOOF  19-01-2017 15:10  5571806.0   979185      1678  74868704   \n",
      "1885  IDrDWjfNG  17-01-2017 12:16  6230774.0   577311     46450  47079934   \n",
      "1762  ID4GzCr6c  11-01-2017 19:36   827621.0   714656     34670  49554217   \n",
      "951   IDjhUMpPt  19-01-2017 06:27  9569466.0   766755      8467  14999030   \n",
      "1782  IDcrVyR80  14-01-2017 00:49    73852.0   167892     66438  20301556   \n",
      "1158  IDip2znBH  16-01-2017 10:35  7437127.0   967501     80554  47079934   \n",
      "2593  IDwJDao9t  18-01-2017 15:12   457161.0   681654     54916  62201833   \n",
      "4170  IDVaUyuMV  13-01-2017 16:06        NaN   297362     17714  74363610   \n",
      "1447  IDCg6fQWl  13-01-2017 10:04  2109968.0   492715     70424  48454212   \n",
      "3874  IDbEPNea3  14-01-2017 14:05        NaN   891581     23576  16150900   \n",
      "350   IDcqJxkuv  16-01-2017 16:37  6806134.0   136904     93286  25113706   \n",
      "3118  IDOpXrwkF  16-01-2017 17:32  8444048.0   564740     26966   2835657   \n",
      "13    IDmCaFQkJ  15-01-2017 14:30  1321785.0   141439     48498  30860214   \n",
      "1893  IDVVT5WMG  17-01-2017 11:10        NaN    31568       904  94350426   \n",
      "4935  IDTWb6MVH  10-01-2017 11:12  7008697.0   988112     52747  91553313   \n",
      "...         ...               ...        ...      ...       ...       ...   \n",
      "4253  IDOtyVZrJ  15-01-2017 14:37  4250674.0   179769     48498  25497095   \n",
      "2291  IDxhA19ON  10-01-2017 21:46        NaN   864375      6906  98830533   \n",
      "4440  IDHdKlkQ0  13-01-2017 12:45  4736722.0   466225     54916  58321067   \n",
      "2171  IDKganimn  19-01-2017 22:52  1885976.0   344753      2053  29998365   \n",
      "3954  IDp9p5P6C  17-01-2017 12:03  5128807.0    23863     40339  37135965   \n",
      "4965  ID71v7mSn  13-01-2017 03:14  4260062.0   814352     42227  96823930   \n",
      "3259  IDuiMmfmq  10-01-2017 15:01  8862449.0    36614      6906  99510044   \n",
      "150   IDylJl4O7  18-01-2017 17:56  3410829.0   698910     56811  23703974   \n",
      "3533  IDdyogDiH  11-01-2017 17:17  9340539.0   319398     48430  55420443   \n",
      "860   ID81VNE5q  20-01-2017 09:27  9450095.0    50787     36768  78406516   \n",
      "3744  ID4vH7uLS  14-01-2017 02:04  1266440.0   253634     46450  47079934   \n",
      "3201  IDSwx85Cm  19-01-2017 16:36     4910.0   718137     60316   7122654   \n",
      "1509  IDW4pbPpy  15-01-2017 17:52  2136157.0   558863     64452  87726715   \n",
      "2804  IDQVZXTF1  17-01-2017 16:30   207732.0    89059     42227  95013373   \n",
      "3688  ID46I4qdE  14-01-2017 13:34  5748905.0   148032     50088  57977218   \n",
      "781   IDRFaBYwR  10-01-2017 19:28  9515209.0   199183     80554  26391770   \n",
      "1398  ID47bjwWn  15-01-2017 12:26        NaN   126039     17714  74363610   \n",
      "4982  IDSyZsOVz  12-01-2017 15:09  4606668.0   995984     23576  17990842   \n",
      "3793  IDMQIaAdH  17-01-2017 13:18   846230.0   960916     81229  66240359   \n",
      "2837  IDe52XKJ3  20-01-2017 16:39  7268944.0    47917     72160  47079934   \n",
      "1107  IDaOtcbj8  11-01-2017 12:24  8449789.0   673237      6906  99510044   \n",
      "4859  IDR8b7gts  16-01-2017 12:03  7455357.0    65990     74263   2050923   \n",
      "2050  IDt8gNQZv  14-01-2017 18:23  9135137.0   311734     48498  35888759   \n",
      "2107  ID5dgm2O3  20-01-2017 17:36  6606053.0   516449     95113  92640312   \n",
      "437   IDgkRfYEI  10-01-2017 15:49  1617910.0    34111     11837  43770446   \n",
      "4126  IDFKJLaGd  11-01-2017 22:46  3938655.0   770202       904  26391770   \n",
      "446   ID9tx47VN  12-01-2017 16:27  5677000.0   194384     66786  20301556   \n",
      "3995  IDPdJMUdc  14-01-2017 12:54  8848662.0   872710      9764  50595884   \n",
      "4959  IDgQHlNIi  18-01-2017 11:00  9785137.0   785310      3643  78406516   \n",
      "51    IDrg36tzP  10-01-2017 23:26  2395110.0    48357     41706   4000296   \n",
      "\n",
      "     countrycode         browserid    devid  click  \n",
      "3615           b              Edge   Tablet      0  \n",
      "1319           d  InternetExplorer  Desktop      1  \n",
      "4139           a                IE   Mobile      0  \n",
      "3904           a              Edge   Tablet      0  \n",
      "2330           c  InternetExplorer  Desktop      1  \n",
      "1010           c     Google Chrome      NaN      1  \n",
      "4125           c           Firefox      NaN      0  \n",
      "4813           f              Edge   Tablet      0  \n",
      "2978           a           Firefox   Mobile      0  \n",
      "4991           a              Edge   Tablet      0  \n",
      "3270           b           Firefox      NaN      0  \n",
      "2312           c           Mozilla  Desktop      1  \n",
      "698            e               NaN  Desktop      1  \n",
      "4810           a           Firefox   Mobile      0  \n",
      "1506           d     Google Chrome      NaN      1  \n",
      "2710           b              Edge   Tablet      0  \n",
      "1885           c  InternetExplorer  Desktop      1  \n",
      "1762           b     Google Chrome   Mobile      1  \n",
      "951            d               NaN   Mobile      1  \n",
      "1782           c  InternetExplorer  Desktop      1  \n",
      "1158           e  InternetExplorer  Desktop      1  \n",
      "2593           c               NaN   Mobile      0  \n",
      "4170           b              Edge      NaN      0  \n",
      "1447           c              Edge   Tablet      1  \n",
      "3874           a   Mozilla Firefox  Desktop      0  \n",
      "350            d     Google Chrome      NaN      1  \n",
      "3118           b           Firefox      NaN      0  \n",
      "13             d     Google Chrome   Mobile      1  \n",
      "1893           c     Google Chrome   Mobile      1  \n",
      "4935           c           Firefox   Mobile      0  \n",
      "...          ...               ...      ...    ...  \n",
      "4253           b   Mozilla Firefox  Desktop      0  \n",
      "2291           d     Google Chrome   Mobile      1  \n",
      "4440           b              Edge   Tablet      0  \n",
      "2171           e  InternetExplorer      NaN      1  \n",
      "3954           a               NaN   Tablet      0  \n",
      "4965           b  InternetExplorer  Desktop      0  \n",
      "3259           a           Firefox   Mobile      0  \n",
      "150            d  InternetExplorer  Desktop      1  \n",
      "3533           a            Chrome  Desktop      0  \n",
      "860            d  InternetExplorer  Desktop      1  \n",
      "3744           d           Mozilla  Desktop      0  \n",
      "3201           b           Mozilla  Desktop      0  \n",
      "1509           b               NaN  Desktop      1  \n",
      "2804           b              Edge   Tablet      0  \n",
      "3688           d  InternetExplorer  Desktop      0  \n",
      "781            f     Google Chrome   Mobile      1  \n",
      "1398           c  InternetExplorer  Desktop      1  \n",
      "4982           a           Mozilla  Desktop      0  \n",
      "3793           a           Mozilla  Desktop      0  \n",
      "2837           a           Firefox   Mobile      0  \n",
      "1107           c     Google Chrome   Mobile      1  \n",
      "4859           b              Edge   Tablet      0  \n",
      "2050           c     Google Chrome      NaN      1  \n",
      "2107           d  InternetExplorer  Desktop      1  \n",
      "437            d            Chrome  Desktop      1  \n",
      "4126           a           Mozilla  Desktop      0  \n",
      "446            c     Google Chrome   Mobile      1  \n",
      "3995           a           Mozilla      NaN      0  \n",
      "4959           d              Edge   Tablet      0  \n",
      "51             c  InternetExplorer      NaN      1  \n",
      "\n",
      "[5000 rows x 10 columns]\n"
     ]
    }
   ],
   "source": [
    "from sklearn.utils import shuffle\n",
    "df_new = shuffle(df_combined)\n",
    "print(df_new)"
   ]
  },
  {
   "cell_type": "code",
   "execution_count": 91,
   "metadata": {},
   "outputs": [],
   "source": [
    "#data = df[:5000]\n",
    "#print(data)"
   ]
  },
  {
   "cell_type": "code",
   "execution_count": 92,
   "metadata": {},
   "outputs": [],
   "source": [
    "#click_new = [0] * 5000 + [1] * 5000\n",
    "#from random import shuffle\n",
    "#shuffle(click_new)\n",
    "#print(click_new)\n",
    "#click_new = [0] * 2500 + [1] * 2500\n",
    "#from random import shuffle\n",
    "#click_new = shuffle(click_new)\n",
    "#print(click_new)"
   ]
  },
  {
   "cell_type": "code",
   "execution_count": 80,
   "metadata": {},
   "outputs": [],
   "source": [
    "#df_new['click'] = click_new"
   ]
  },
  {
   "cell_type": "code",
   "execution_count": 8,
   "metadata": {},
   "outputs": [
    {
     "data": {
      "text/plain": [
       "1    2500\n",
       "0    2500\n",
       "Name: click, dtype: int64"
      ]
     },
     "execution_count": 8,
     "metadata": {},
     "output_type": "execute_result"
    }
   ],
   "source": [
    "df_new['click'].value_counts()"
   ]
  },
  {
   "cell_type": "code",
   "execution_count": 9,
   "metadata": {},
   "outputs": [
    {
     "data": {
      "text/plain": [
       "ID               0\n",
       "datetime         0\n",
       "siteid         515\n",
       "offerid          0\n",
       "category         0\n",
       "merchant         0\n",
       "countrycode      0\n",
       "browserid      267\n",
       "devid          761\n",
       "click            0\n",
       "dtype: int64"
      ]
     },
     "execution_count": 9,
     "metadata": {},
     "output_type": "execute_result"
    }
   ],
   "source": [
    "df_new.isnull().sum()"
   ]
  },
  {
   "cell_type": "code",
   "execution_count": 10,
   "metadata": {},
   "outputs": [
    {
     "name": "stdout",
     "output_type": "stream",
     "text": [
      "0.103\n",
      "0.0534\n",
      "0.1522\n"
     ]
    }
   ],
   "source": [
    "print((df_new[\"siteid\"].isnull().sum())/len(df_new[\"siteid\"])) \n",
    "print((df_new[\"browserid\"].isnull().sum())/len(df_new[\"browserid\"]))\n",
    "print((df_new[\"devid\"].isnull().sum())/len(df_new[\"devid\"]))\n",
    "                                       "
   ]
  },
  {
   "cell_type": "code",
   "execution_count": 11,
   "metadata": {},
   "outputs": [
    {
     "data": {
      "text/plain": [
       "0    Mobile\n",
       "dtype: object"
      ]
     },
     "execution_count": 11,
     "metadata": {},
     "output_type": "execute_result"
    }
   ],
   "source": [
    "df_new['siteid'].mode()\n",
    "df_new['browserid'].mode()\n",
    "df_new['devid'].mode()\n",
    "#data = data.dropna(axis=0)\n",
    "#print(data[\"devid\"])"
   ]
  },
  {
   "cell_type": "code",
   "execution_count": 12,
   "metadata": {},
   "outputs": [
    {
     "name": "stdout",
     "output_type": "stream",
     "text": [
      "             ID          datetime     siteid  offerid  category  merchant  \\\n",
      "3615  IDGev7Hqh  11-01-2017 08:43  5449810.0   543897     80692  74868704   \n",
      "1319  ID87IfZvC  20-01-2017 09:00  8674669.0   738456     22023  48644561   \n",
      "4139  IDEoIlQ1b  15-01-2017 08:26  7948446.0   618774     53956  52437512   \n",
      "3904  IDn1Kpx69  16-01-2017 14:22  4032920.0   406070     15912   7864011   \n",
      "2330  IDVAYtRkn  19-01-2017 03:07  3539408.0    41436      5602  72451969   \n",
      "1010  IDTvQksXC  19-01-2017 21:57  4985579.0   600754     43897  18243870   \n",
      "4125  ID2UO881a  11-01-2017 05:26  9489992.0   466538     70384  14032724   \n",
      "4813  IDsw6PDWz  14-01-2017 15:34  1901017.0   220446     66786  20301556   \n",
      "2978  IDweXr48M  14-01-2017 09:06  3544355.0   889613     93286  94930037   \n",
      "4991  ID78RP97n  17-01-2017 02:46   187884.0   212836      6906  71165566   \n",
      "3270  IDNfp8mab  11-01-2017 19:04  4974141.0   187621     10345  26461535   \n",
      "2312  ID9MOz2Xa  12-01-2017 14:31   219304.0   988312     61208  39603421   \n",
      "698   IDEHgqrsv  10-01-2017 08:20  9114482.0   918977     43612  26391770   \n",
      "4810  IDcbdGiGn  16-01-2017 15:21  1199396.0   424770     20322  30860214   \n",
      "1506  ID5qCYZRD  13-01-2017 23:21  9232468.0   232638     35046  31388981   \n",
      "2710  IDRQgJOOF  19-01-2017 15:10  5571806.0   979185      1678  74868704   \n",
      "1885  IDrDWjfNG  17-01-2017 12:16  6230774.0   577311     46450  47079934   \n",
      "1762  ID4GzCr6c  11-01-2017 19:36   827621.0   714656     34670  49554217   \n",
      "951   IDjhUMpPt  19-01-2017 06:27  9569466.0   766755      8467  14999030   \n",
      "1782  IDcrVyR80  14-01-2017 00:49    73852.0   167892     66438  20301556   \n",
      "1158  IDip2znBH  16-01-2017 10:35  7437127.0   967501     80554  47079934   \n",
      "2593  IDwJDao9t  18-01-2017 15:12   457161.0   681654     54916  62201833   \n",
      "4170  IDVaUyuMV  13-01-2017 16:06  1466152.0   297362     17714  74363610   \n",
      "1447  IDCg6fQWl  13-01-2017 10:04  2109968.0   492715     70424  48454212   \n",
      "3874  IDbEPNea3  14-01-2017 14:05  1466152.0   891581     23576  16150900   \n",
      "350   IDcqJxkuv  16-01-2017 16:37  6806134.0   136904     93286  25113706   \n",
      "3118  IDOpXrwkF  16-01-2017 17:32  8444048.0   564740     26966   2835657   \n",
      "13    IDmCaFQkJ  15-01-2017 14:30  1321785.0   141439     48498  30860214   \n",
      "1893  IDVVT5WMG  17-01-2017 11:10  1466152.0    31568       904  94350426   \n",
      "4935  IDTWb6MVH  10-01-2017 11:12  7008697.0   988112     52747  91553313   \n",
      "...         ...               ...        ...      ...       ...       ...   \n",
      "4253  IDOtyVZrJ  15-01-2017 14:37  4250674.0   179769     48498  25497095   \n",
      "2291  IDxhA19ON  10-01-2017 21:46  1466152.0   864375      6906  98830533   \n",
      "4440  IDHdKlkQ0  13-01-2017 12:45  4736722.0   466225     54916  58321067   \n",
      "2171  IDKganimn  19-01-2017 22:52  1885976.0   344753      2053  29998365   \n",
      "3954  IDp9p5P6C  17-01-2017 12:03  5128807.0    23863     40339  37135965   \n",
      "4965  ID71v7mSn  13-01-2017 03:14  4260062.0   814352     42227  96823930   \n",
      "3259  IDuiMmfmq  10-01-2017 15:01  8862449.0    36614      6906  99510044   \n",
      "150   IDylJl4O7  18-01-2017 17:56  3410829.0   698910     56811  23703974   \n",
      "3533  IDdyogDiH  11-01-2017 17:17  9340539.0   319398     48430  55420443   \n",
      "860   ID81VNE5q  20-01-2017 09:27  9450095.0    50787     36768  78406516   \n",
      "3744  ID4vH7uLS  14-01-2017 02:04  1266440.0   253634     46450  47079934   \n",
      "3201  IDSwx85Cm  19-01-2017 16:36     4910.0   718137     60316   7122654   \n",
      "1509  IDW4pbPpy  15-01-2017 17:52  2136157.0   558863     64452  87726715   \n",
      "2804  IDQVZXTF1  17-01-2017 16:30   207732.0    89059     42227  95013373   \n",
      "3688  ID46I4qdE  14-01-2017 13:34  5748905.0   148032     50088  57977218   \n",
      "781   IDRFaBYwR  10-01-2017 19:28  9515209.0   199183     80554  26391770   \n",
      "1398  ID47bjwWn  15-01-2017 12:26  1466152.0   126039     17714  74363610   \n",
      "4982  IDSyZsOVz  12-01-2017 15:09  4606668.0   995984     23576  17990842   \n",
      "3793  IDMQIaAdH  17-01-2017 13:18   846230.0   960916     81229  66240359   \n",
      "2837  IDe52XKJ3  20-01-2017 16:39  7268944.0    47917     72160  47079934   \n",
      "1107  IDaOtcbj8  11-01-2017 12:24  8449789.0   673237      6906  99510044   \n",
      "4859  IDR8b7gts  16-01-2017 12:03  7455357.0    65990     74263   2050923   \n",
      "2050  IDt8gNQZv  14-01-2017 18:23  9135137.0   311734     48498  35888759   \n",
      "2107  ID5dgm2O3  20-01-2017 17:36  6606053.0   516449     95113  92640312   \n",
      "437   IDgkRfYEI  10-01-2017 15:49  1617910.0    34111     11837  43770446   \n",
      "4126  IDFKJLaGd  11-01-2017 22:46  3938655.0   770202       904  26391770   \n",
      "446   ID9tx47VN  12-01-2017 16:27  5677000.0   194384     66786  20301556   \n",
      "3995  IDPdJMUdc  14-01-2017 12:54  8848662.0   872710      9764  50595884   \n",
      "4959  IDgQHlNIi  18-01-2017 11:00  9785137.0   785310      3643  78406516   \n",
      "51    IDrg36tzP  10-01-2017 23:26  2395110.0    48357     41706   4000296   \n",
      "\n",
      "     countrycode         browserid    devid  click  \n",
      "3615           b              Edge   Tablet      0  \n",
      "1319           d  InternetExplorer  Desktop      1  \n",
      "4139           a                IE   Mobile      0  \n",
      "3904           a              Edge   Tablet      0  \n",
      "2330           c  InternetExplorer  Desktop      1  \n",
      "1010           c     Google Chrome   Mobile      1  \n",
      "4125           c           Firefox   Mobile      0  \n",
      "4813           f              Edge   Tablet      0  \n",
      "2978           a           Firefox   Mobile      0  \n",
      "4991           a              Edge   Tablet      0  \n",
      "3270           b           Firefox   Mobile      0  \n",
      "2312           c           Mozilla  Desktop      1  \n",
      "698            e              Edge  Desktop      1  \n",
      "4810           a           Firefox   Mobile      0  \n",
      "1506           d     Google Chrome   Mobile      1  \n",
      "2710           b              Edge   Tablet      0  \n",
      "1885           c  InternetExplorer  Desktop      1  \n",
      "1762           b     Google Chrome   Mobile      1  \n",
      "951            d              Edge   Mobile      1  \n",
      "1782           c  InternetExplorer  Desktop      1  \n",
      "1158           e  InternetExplorer  Desktop      1  \n",
      "2593           c              Edge   Mobile      0  \n",
      "4170           b              Edge   Mobile      0  \n",
      "1447           c              Edge   Tablet      1  \n",
      "3874           a   Mozilla Firefox  Desktop      0  \n",
      "350            d     Google Chrome   Mobile      1  \n",
      "3118           b           Firefox   Mobile      0  \n",
      "13             d     Google Chrome   Mobile      1  \n",
      "1893           c     Google Chrome   Mobile      1  \n",
      "4935           c           Firefox   Mobile      0  \n",
      "...          ...               ...      ...    ...  \n",
      "4253           b   Mozilla Firefox  Desktop      0  \n",
      "2291           d     Google Chrome   Mobile      1  \n",
      "4440           b              Edge   Tablet      0  \n",
      "2171           e  InternetExplorer   Mobile      1  \n",
      "3954           a              Edge   Tablet      0  \n",
      "4965           b  InternetExplorer  Desktop      0  \n",
      "3259           a           Firefox   Mobile      0  \n",
      "150            d  InternetExplorer  Desktop      1  \n",
      "3533           a            Chrome  Desktop      0  \n",
      "860            d  InternetExplorer  Desktop      1  \n",
      "3744           d           Mozilla  Desktop      0  \n",
      "3201           b           Mozilla  Desktop      0  \n",
      "1509           b              Edge  Desktop      1  \n",
      "2804           b              Edge   Tablet      0  \n",
      "3688           d  InternetExplorer  Desktop      0  \n",
      "781            f     Google Chrome   Mobile      1  \n",
      "1398           c  InternetExplorer  Desktop      1  \n",
      "4982           a           Mozilla  Desktop      0  \n",
      "3793           a           Mozilla  Desktop      0  \n",
      "2837           a           Firefox   Mobile      0  \n",
      "1107           c     Google Chrome   Mobile      1  \n",
      "4859           b              Edge   Tablet      0  \n",
      "2050           c     Google Chrome   Mobile      1  \n",
      "2107           d  InternetExplorer  Desktop      1  \n",
      "437            d            Chrome  Desktop      1  \n",
      "4126           a           Mozilla  Desktop      0  \n",
      "446            c     Google Chrome   Mobile      1  \n",
      "3995           a           Mozilla   Mobile      0  \n",
      "4959           d              Edge   Tablet      0  \n",
      "51             c  InternetExplorer   Mobile      1  \n",
      "\n",
      "[5000 rows x 10 columns]\n"
     ]
    }
   ],
   "source": [
    "df_new[\"siteid\"]=df_new[\"siteid\"].fillna(1466152.0)\n",
    "df_new[\"browserid\"]=df_new[\"browserid\"].fillna('Edge')\n",
    "df_new[\"devid\"]=df_new[\"devid\"].fillna('Mobile')\n",
    "print(df_new)\n"
   ]
  },
  {
   "cell_type": "code",
   "execution_count": 13,
   "metadata": {},
   "outputs": [
    {
     "data": {
      "text/plain": [
       "ID             0\n",
       "datetime       0\n",
       "siteid         0\n",
       "offerid        0\n",
       "category       0\n",
       "merchant       0\n",
       "countrycode    0\n",
       "browserid      0\n",
       "devid          0\n",
       "click          0\n",
       "dtype: int64"
      ]
     },
     "execution_count": 13,
     "metadata": {},
     "output_type": "execute_result"
    }
   ],
   "source": [
    "df_new.isnull().sum()"
   ]
  },
  {
   "cell_type": "code",
   "execution_count": 14,
   "metadata": {},
   "outputs": [
    {
     "data": {
      "text/html": [
       "<div>\n",
       "<style scoped>\n",
       "    .dataframe tbody tr th:only-of-type {\n",
       "        vertical-align: middle;\n",
       "    }\n",
       "\n",
       "    .dataframe tbody tr th {\n",
       "        vertical-align: top;\n",
       "    }\n",
       "\n",
       "    .dataframe thead th {\n",
       "        text-align: right;\n",
       "    }\n",
       "</style>\n",
       "<table border=\"1\" class=\"dataframe\">\n",
       "  <thead>\n",
       "    <tr style=\"text-align: right;\">\n",
       "      <th></th>\n",
       "      <th>ID</th>\n",
       "      <th>datetime</th>\n",
       "      <th>siteid</th>\n",
       "      <th>offerid</th>\n",
       "      <th>category</th>\n",
       "      <th>merchant</th>\n",
       "      <th>countrycode</th>\n",
       "      <th>browserid</th>\n",
       "      <th>devid</th>\n",
       "      <th>click</th>\n",
       "    </tr>\n",
       "  </thead>\n",
       "  <tbody>\n",
       "    <tr>\n",
       "      <th>3615</th>\n",
       "      <td>IDGev7Hqh</td>\n",
       "      <td>11-01-2017 08:43</td>\n",
       "      <td>5449810.0</td>\n",
       "      <td>543897</td>\n",
       "      <td>80692</td>\n",
       "      <td>74868704</td>\n",
       "      <td>b</td>\n",
       "      <td>Edge</td>\n",
       "      <td>Tablet</td>\n",
       "      <td>0</td>\n",
       "    </tr>\n",
       "    <tr>\n",
       "      <th>1319</th>\n",
       "      <td>ID87IfZvC</td>\n",
       "      <td>20-01-2017 09:00</td>\n",
       "      <td>8674669.0</td>\n",
       "      <td>738456</td>\n",
       "      <td>22023</td>\n",
       "      <td>48644561</td>\n",
       "      <td>d</td>\n",
       "      <td>InternetExplorer</td>\n",
       "      <td>Desktop</td>\n",
       "      <td>1</td>\n",
       "    </tr>\n",
       "    <tr>\n",
       "      <th>4139</th>\n",
       "      <td>IDEoIlQ1b</td>\n",
       "      <td>15-01-2017 08:26</td>\n",
       "      <td>7948446.0</td>\n",
       "      <td>618774</td>\n",
       "      <td>53956</td>\n",
       "      <td>52437512</td>\n",
       "      <td>a</td>\n",
       "      <td>IE</td>\n",
       "      <td>Mobile</td>\n",
       "      <td>0</td>\n",
       "    </tr>\n",
       "    <tr>\n",
       "      <th>3904</th>\n",
       "      <td>IDn1Kpx69</td>\n",
       "      <td>16-01-2017 14:22</td>\n",
       "      <td>4032920.0</td>\n",
       "      <td>406070</td>\n",
       "      <td>15912</td>\n",
       "      <td>7864011</td>\n",
       "      <td>a</td>\n",
       "      <td>Edge</td>\n",
       "      <td>Tablet</td>\n",
       "      <td>0</td>\n",
       "    </tr>\n",
       "    <tr>\n",
       "      <th>2330</th>\n",
       "      <td>IDVAYtRkn</td>\n",
       "      <td>19-01-2017 03:07</td>\n",
       "      <td>3539408.0</td>\n",
       "      <td>41436</td>\n",
       "      <td>5602</td>\n",
       "      <td>72451969</td>\n",
       "      <td>c</td>\n",
       "      <td>InternetExplorer</td>\n",
       "      <td>Desktop</td>\n",
       "      <td>1</td>\n",
       "    </tr>\n",
       "  </tbody>\n",
       "</table>\n",
       "</div>"
      ],
      "text/plain": [
       "             ID          datetime     siteid  offerid  category  merchant  \\\n",
       "3615  IDGev7Hqh  11-01-2017 08:43  5449810.0   543897     80692  74868704   \n",
       "1319  ID87IfZvC  20-01-2017 09:00  8674669.0   738456     22023  48644561   \n",
       "4139  IDEoIlQ1b  15-01-2017 08:26  7948446.0   618774     53956  52437512   \n",
       "3904  IDn1Kpx69  16-01-2017 14:22  4032920.0   406070     15912   7864011   \n",
       "2330  IDVAYtRkn  19-01-2017 03:07  3539408.0    41436      5602  72451969   \n",
       "\n",
       "     countrycode         browserid    devid  click  \n",
       "3615           b              Edge   Tablet      0  \n",
       "1319           d  InternetExplorer  Desktop      1  \n",
       "4139           a                IE   Mobile      0  \n",
       "3904           a              Edge   Tablet      0  \n",
       "2330           c  InternetExplorer  Desktop      1  "
      ]
     },
     "execution_count": 14,
     "metadata": {},
     "output_type": "execute_result"
    }
   ],
   "source": [
    "df_new.head()"
   ]
  },
  {
   "cell_type": "code",
   "execution_count": 15,
   "metadata": {},
   "outputs": [],
   "source": [
    "df_new['datetime'] = pd.to_datetime(df_new['datetime'])\n",
    "df_new['year']= df_new['datetime'].dt.year\n",
    "df_new['month']= df_new['datetime'].dt.month\n",
    "df_new['day']= df_new['datetime'].dt.day\n",
    "df_new['hour']= df_new['datetime'].dt.hour\n",
    "df_new['min']= df_new['datetime'].dt.minute\n"
   ]
  },
  {
   "cell_type": "markdown",
   "metadata": {},
   "source": [
    "# Checking the correlation of columns "
   ]
  },
  {
   "cell_type": "code",
   "execution_count": 17,
   "metadata": {},
   "outputs": [
    {
     "data": {
      "text/plain": [
       "<matplotlib.axes._subplots.AxesSubplot at 0x2263d0f9128>"
      ]
     },
     "execution_count": 17,
     "metadata": {},
     "output_type": "execute_result"
    },
    {
     "data": {
      "image/png": "[encoded data removed]",
      "text/plain": [
       "<Figure size 720x576 with 2 Axes>"
      ]
     },
     "metadata": {
      "needs_background": "light"
     },
     "output_type": "display_data"
    }
   ],
   "source": [
    "import seaborn as sns\n",
    "import matplotlib.pyplot as plt\n",
    "import numpy as np\n",
    "f, ax = plt.subplots(figsize=(10, 8))\n",
    "corr = df_new.corr()\n",
    "sns.heatmap(corr, mask=np.zeros_like(corr, dtype=np.bool), cmap=sns.diverging_palette(220, 10, as_cmap=True),\n",
    "            square=True, ax=ax)"
   ]
  },
  {
   "cell_type": "code",
   "execution_count": 18,
   "metadata": {},
   "outputs": [
    {
     "data": {
      "text/html": [
       "<div>\n",
       "<style scoped>\n",
       "    .dataframe tbody tr th:only-of-type {\n",
       "        vertical-align: middle;\n",
       "    }\n",
       "\n",
       "    .dataframe tbody tr th {\n",
       "        vertical-align: top;\n",
       "    }\n",
       "\n",
       "    .dataframe thead th {\n",
       "        text-align: right;\n",
       "    }\n",
       "</style>\n",
       "<table border=\"1\" class=\"dataframe\">\n",
       "  <thead>\n",
       "    <tr style=\"text-align: right;\">\n",
       "      <th></th>\n",
       "      <th>ID</th>\n",
       "      <th>click</th>\n",
       "      <th>year</th>\n",
       "      <th>month</th>\n",
       "      <th>day</th>\n",
       "      <th>hour</th>\n",
       "      <th>min</th>\n",
       "      <th>datetime_2017-01-13 00:00:00</th>\n",
       "      <th>datetime_2017-01-13 00:07:00</th>\n",
       "      <th>datetime_2017-01-13 00:17:00</th>\n",
       "      <th>...</th>\n",
       "      <th>browserid_IE</th>\n",
       "      <th>browserid_Internet Explorer</th>\n",
       "      <th>browserid_InternetExplorer</th>\n",
       "      <th>browserid_Mozilla</th>\n",
       "      <th>browserid_Mozilla Firefox</th>\n",
       "      <th>browserid_Opera</th>\n",
       "      <th>browserid_Safari</th>\n",
       "      <th>devid_Desktop</th>\n",
       "      <th>devid_Mobile</th>\n",
       "      <th>devid_Tablet</th>\n",
       "    </tr>\n",
       "  </thead>\n",
       "  <tbody>\n",
       "    <tr>\n",
       "      <th>3615</th>\n",
       "      <td>IDGev7Hqh</td>\n",
       "      <td>0</td>\n",
       "      <td>2017</td>\n",
       "      <td>11</td>\n",
       "      <td>1</td>\n",
       "      <td>8</td>\n",
       "      <td>43</td>\n",
       "      <td>0</td>\n",
       "      <td>0</td>\n",
       "      <td>0</td>\n",
       "      <td>...</td>\n",
       "      <td>0</td>\n",
       "      <td>0</td>\n",
       "      <td>0</td>\n",
       "      <td>0</td>\n",
       "      <td>0</td>\n",
       "      <td>0</td>\n",
       "      <td>0</td>\n",
       "      <td>0</td>\n",
       "      <td>0</td>\n",
       "      <td>1</td>\n",
       "    </tr>\n",
       "    <tr>\n",
       "      <th>1319</th>\n",
       "      <td>ID87IfZvC</td>\n",
       "      <td>1</td>\n",
       "      <td>2017</td>\n",
       "      <td>1</td>\n",
       "      <td>20</td>\n",
       "      <td>9</td>\n",
       "      <td>0</td>\n",
       "      <td>0</td>\n",
       "      <td>0</td>\n",
       "      <td>0</td>\n",
       "      <td>...</td>\n",
       "      <td>0</td>\n",
       "      <td>0</td>\n",
       "      <td>1</td>\n",
       "      <td>0</td>\n",
       "      <td>0</td>\n",
       "      <td>0</td>\n",
       "      <td>0</td>\n",
       "      <td>1</td>\n",
       "      <td>0</td>\n",
       "      <td>0</td>\n",
       "    </tr>\n",
       "    <tr>\n",
       "      <th>4139</th>\n",
       "      <td>IDEoIlQ1b</td>\n",
       "      <td>0</td>\n",
       "      <td>2017</td>\n",
       "      <td>1</td>\n",
       "      <td>15</td>\n",
       "      <td>8</td>\n",
       "      <td>26</td>\n",
       "      <td>0</td>\n",
       "      <td>0</td>\n",
       "      <td>0</td>\n",
       "      <td>...</td>\n",
       "      <td>1</td>\n",
       "      <td>0</td>\n",
       "      <td>0</td>\n",
       "      <td>0</td>\n",
       "      <td>0</td>\n",
       "      <td>0</td>\n",
       "      <td>0</td>\n",
       "      <td>0</td>\n",
       "      <td>1</td>\n",
       "      <td>0</td>\n",
       "    </tr>\n",
       "    <tr>\n",
       "      <th>3904</th>\n",
       "      <td>IDn1Kpx69</td>\n",
       "      <td>0</td>\n",
       "      <td>2017</td>\n",
       "      <td>1</td>\n",
       "      <td>16</td>\n",
       "      <td>14</td>\n",
       "      <td>22</td>\n",
       "      <td>0</td>\n",
       "      <td>0</td>\n",
       "      <td>0</td>\n",
       "      <td>...</td>\n",
       "      <td>0</td>\n",
       "      <td>0</td>\n",
       "      <td>0</td>\n",
       "      <td>0</td>\n",
       "      <td>0</td>\n",
       "      <td>0</td>\n",
       "      <td>0</td>\n",
       "      <td>0</td>\n",
       "      <td>0</td>\n",
       "      <td>1</td>\n",
       "    </tr>\n",
       "    <tr>\n",
       "      <th>2330</th>\n",
       "      <td>IDVAYtRkn</td>\n",
       "      <td>1</td>\n",
       "      <td>2017</td>\n",
       "      <td>1</td>\n",
       "      <td>19</td>\n",
       "      <td>3</td>\n",
       "      <td>7</td>\n",
       "      <td>0</td>\n",
       "      <td>0</td>\n",
       "      <td>0</td>\n",
       "      <td>...</td>\n",
       "      <td>0</td>\n",
       "      <td>0</td>\n",
       "      <td>1</td>\n",
       "      <td>0</td>\n",
       "      <td>0</td>\n",
       "      <td>0</td>\n",
       "      <td>0</td>\n",
       "      <td>1</td>\n",
       "      <td>0</td>\n",
       "      <td>0</td>\n",
       "    </tr>\n",
       "  </tbody>\n",
       "</table>\n",
       "<p>5 rows × 13296 columns</p>\n",
       "</div>"
      ],
      "text/plain": [
       "             ID  click  year  month  day  hour  min  \\\n",
       "3615  IDGev7Hqh      0  2017     11    1     8   43   \n",
       "1319  ID87IfZvC      1  2017      1   20     9    0   \n",
       "4139  IDEoIlQ1b      0  2017      1   15     8   26   \n",
       "3904  IDn1Kpx69      0  2017      1   16    14   22   \n",
       "2330  IDVAYtRkn      1  2017      1   19     3    7   \n",
       "\n",
       "      datetime_2017-01-13 00:00:00  datetime_2017-01-13 00:07:00  \\\n",
       "3615                             0                             0   \n",
       "1319                             0                             0   \n",
       "4139                             0                             0   \n",
       "3904                             0                             0   \n",
       "2330                             0                             0   \n",
       "\n",
       "      datetime_2017-01-13 00:17:00      ...       browserid_IE  \\\n",
       "3615                             0      ...                  0   \n",
       "1319                             0      ...                  0   \n",
       "4139                             0      ...                  1   \n",
       "3904                             0      ...                  0   \n",
       "2330                             0      ...                  0   \n",
       "\n",
       "      browserid_Internet Explorer  browserid_InternetExplorer  \\\n",
       "3615                            0                           0   \n",
       "1319                            0                           1   \n",
       "4139                            0                           0   \n",
       "3904                            0                           0   \n",
       "2330                            0                           1   \n",
       "\n",
       "      browserid_Mozilla  browserid_Mozilla Firefox  browserid_Opera  \\\n",
       "3615                  0                          0                0   \n",
       "1319                  0                          0                0   \n",
       "4139                  0                          0                0   \n",
       "3904                  0                          0                0   \n",
       "2330                  0                          0                0   \n",
       "\n",
       "      browserid_Safari  devid_Desktop  devid_Mobile  devid_Tablet  \n",
       "3615                 0              0             0             1  \n",
       "1319                 0              1             0             0  \n",
       "4139                 0              0             1             0  \n",
       "3904                 0              0             0             1  \n",
       "2330                 0              1             0             0  \n",
       "\n",
       "[5 rows x 13296 columns]"
      ]
     },
     "execution_count": 18,
     "metadata": {},
     "output_type": "execute_result"
    }
   ],
   "source": [
    "dummies =  pd.get_dummies(df_new,columns=['datetime','siteid','offerid','category','merchant','countrycode','browserid','devid'])\n",
    "dummies.head()"
   ]
  },
  {
   "cell_type": "code",
   "execution_count": 19,
   "metadata": {},
   "outputs": [
    {
     "data": {
      "text/plain": [
       "3615    0\n",
       "1319    1\n",
       "4139    0\n",
       "3904    0\n",
       "2330    1\n",
       "Name: click, dtype: int64"
      ]
     },
     "execution_count": 19,
     "metadata": {},
     "output_type": "execute_result"
    }
   ],
   "source": [
    "y = dummies['click']\n",
    "final = dummies.drop(['ID','click'],axis='columns')\n",
    "y.head()"
   ]
  },
  {
   "cell_type": "code",
   "execution_count": 20,
   "metadata": {},
   "outputs": [
    {
     "name": "stdout",
     "output_type": "stream",
     "text": [
      "Index(['year', 'month', 'day', 'hour', 'min', 'datetime_2017-01-13 00:00:00',\n",
      "       'datetime_2017-01-13 00:07:00', 'datetime_2017-01-13 00:17:00',\n",
      "       'datetime_2017-01-13 01:07:00', 'datetime_2017-01-13 01:24:00',\n",
      "       ...\n",
      "       'browserid_IE', 'browserid_Internet Explorer',\n",
      "       'browserid_InternetExplorer', 'browserid_Mozilla',\n",
      "       'browserid_Mozilla Firefox', 'browserid_Opera', 'browserid_Safari',\n",
      "       'devid_Desktop', 'devid_Mobile', 'devid_Tablet'],\n",
      "      dtype='object', length=13294)\n"
     ]
    }
   ],
   "source": [
    "feature_cols=final.columns\n",
    "\n",
    "print(feature_cols)"
   ]
  },
  {
   "cell_type": "code",
   "execution_count": 21,
   "metadata": {},
   "outputs": [
    {
     "name": "stdout",
     "output_type": "stream",
     "text": [
      "      year  month  day  hour  min  datetime_2017-01-13 00:00:00  \\\n",
      "3615  2017     11    1     8   43                             0   \n",
      "1319  2017      1   20     9    0                             0   \n",
      "4139  2017      1   15     8   26                             0   \n",
      "3904  2017      1   16    14   22                             0   \n",
      "2330  2017      1   19     3    7                             0   \n",
      "\n",
      "      datetime_2017-01-13 00:07:00  datetime_2017-01-13 00:17:00  \\\n",
      "3615                             0                             0   \n",
      "1319                             0                             0   \n",
      "4139                             0                             0   \n",
      "3904                             0                             0   \n",
      "2330                             0                             0   \n",
      "\n",
      "      datetime_2017-01-13 01:07:00  datetime_2017-01-13 01:24:00  \\\n",
      "3615                             0                             0   \n",
      "1319                             0                             0   \n",
      "4139                             0                             0   \n",
      "3904                             0                             0   \n",
      "2330                             0                             0   \n",
      "\n",
      "          ...       browserid_IE  browserid_Internet Explorer  \\\n",
      "3615      ...                  0                            0   \n",
      "1319      ...                  0                            0   \n",
      "4139      ...                  1                            0   \n",
      "3904      ...                  0                            0   \n",
      "2330      ...                  0                            0   \n",
      "\n",
      "      browserid_InternetExplorer  browserid_Mozilla  \\\n",
      "3615                           0                  0   \n",
      "1319                           1                  0   \n",
      "4139                           0                  0   \n",
      "3904                           0                  0   \n",
      "2330                           1                  0   \n",
      "\n",
      "      browserid_Mozilla Firefox  browserid_Opera  browserid_Safari  \\\n",
      "3615                          0                0                 0   \n",
      "1319                          0                0                 0   \n",
      "4139                          0                0                 0   \n",
      "3904                          0                0                 0   \n",
      "2330                          0                0                 0   \n",
      "\n",
      "      devid_Desktop  devid_Mobile  devid_Tablet  \n",
      "3615              0             0             1  \n",
      "1319              1             0             0  \n",
      "4139              0             1             0  \n",
      "3904              0             0             1  \n",
      "2330              1             0             0  \n",
      "\n",
      "[5 rows x 13294 columns]\n",
      "*********************************************************\n",
      "3615    0\n",
      "1319    1\n",
      "4139    0\n",
      "3904    0\n",
      "2330    1\n",
      "Name: click, dtype: int64\n"
     ]
    }
   ],
   "source": [
    "X= final[feature_cols]\n",
    "print(X.head())\n",
    "print(\"*********************************************************\")\n",
    "print(y.head())"
   ]
  },
  {
   "cell_type": "code",
   "execution_count": 22,
   "metadata": {},
   "outputs": [
    {
     "data": {
      "text/plain": [
       "(5000, 13294)"
      ]
     },
     "execution_count": 22,
     "metadata": {},
     "output_type": "execute_result"
    }
   ],
   "source": [
    "normalize_feature = preprocess.scale(final)\n",
    "normalize_feature.shape"
   ]
  },
  {
   "cell_type": "markdown",
   "metadata": {},
   "source": [
    "# Splitting the dataset into training and testing set"
   ]
  },
  {
   "cell_type": "code",
   "execution_count": 23,
   "metadata": {},
   "outputs": [
    {
     "name": "stdout",
     "output_type": "stream",
     "text": [
      "(4000, 13294)\n",
      "(4000,)\n",
      "(1000, 13294)\n",
      "(1000,)\n"
     ]
    }
   ],
   "source": [
    "X_train, X_test, y_train, y_test = train_test_split(X, y, test_size=0.2)\n",
    "# print the size of the traning set:\n",
    "print(X_train.shape)\n",
    "print(y_train.shape)\n",
    "\n",
    "# print the size of the testing set:\n",
    "print(X_test.shape)\n",
    "print(y_test.shape)"
   ]
  },
  {
   "cell_type": "code",
   "execution_count": 24,
   "metadata": {},
   "outputs": [
    {
     "data": {
      "text/plain": [
       "(4000, 13294)"
      ]
     },
     "execution_count": 24,
     "metadata": {},
     "output_type": "execute_result"
    }
   ],
   "source": [
    "X_train.shape"
   ]
  },
  {
   "cell_type": "markdown",
   "metadata": {},
   "source": [
    "# Applying PCA "
   ]
  },
  {
   "cell_type": "code",
   "execution_count": 25,
   "metadata": {},
   "outputs": [
    {
     "name": "stdout",
     "output_type": "stream",
     "text": [
      "X_train (4000, 50)\n",
      "X_test (1000, 50)\n"
     ]
    }
   ],
   "source": [
    "k = 50 # (k is the number of components (new features) after dimensionality reduction)\n",
    "my_pca = PCA(n_components = k)\n",
    "X_Train_new = my_pca. fit_transform(X_train)\n",
    "X_Test_new = my_pca. fit_transform(X_test)\n",
    "print('X_train' , X_Train_new.shape)\n",
    "print('X_test', X_Test_new.shape)\n"
   ]
  },
  {
   "cell_type": "code",
   "execution_count": 29,
   "metadata": {},
   "outputs": [
    {
     "name": "stdout",
     "output_type": "stream",
     "text": [
      "0.990139210770408\n"
     ]
    }
   ],
   "source": [
    "#a = my_pca.explained_variance_ratio_.sum() \n",
    "#print(a)"
   ]
  },
  {
   "cell_type": "markdown",
   "metadata": {},
   "source": [
    "# Creating models using different Machine Learning Algorithms and fit them with Training data"
   ]
  },
  {
   "cell_type": "code",
   "execution_count": 26,
   "metadata": {},
   "outputs": [],
   "source": [
    "dec_tree=DecisionTreeClassifier() \n",
    "log_reg=LogisticRegression()\n",
    "k=3\n",
    "knn=KNeighborsClassifier(n_neighbors=k)\n",
    "my_RandomForest = RandomForestClassifier(n_estimators = 19, bootstrap = True, random_state=2)"
   ]
  },
  {
   "cell_type": "code",
   "execution_count": 27,
   "metadata": {},
   "outputs": [
    {
     "data": {
      "text/plain": [
       "RandomForestClassifier(bootstrap=True, class_weight=None, criterion='gini',\n",
       "            max_depth=None, max_features='auto', max_leaf_nodes=None,\n",
       "            min_impurity_decrease=0.0, min_impurity_split=None,\n",
       "            min_samples_leaf=1, min_samples_split=2,\n",
       "            min_weight_fraction_leaf=0.0, n_estimators=19, n_jobs=1,\n",
       "            oob_score=False, random_state=2, verbose=0, warm_start=False)"
      ]
     },
     "execution_count": 27,
     "metadata": {},
     "output_type": "execute_result"
    }
   ],
   "source": [
    "log_reg.fit(X_train,y_train)\n",
    "dec_tree.fit(X_train,y_train)\n",
    "knn.fit(X_train,y_train)\n",
    "my_RandomForest.fit(X_train,y_train)"
   ]
  },
  {
   "cell_type": "markdown",
   "metadata": {},
   "source": [
    "# testing the fit model on Training Set"
   ]
  },
  {
   "cell_type": "code",
   "execution_count": 28,
   "metadata": {},
   "outputs": [],
   "source": [
    "y_perdict_regression =log_reg.predict(X_test)\n",
    "y_perdict_tree =dec_tree.predict(X_test)\n",
    "y_predict_knn= knn.predict(X_test)\n",
    "predict_my_RandomForest=my_RandomForest.predict(X_test)"
   ]
  },
  {
   "cell_type": "markdown",
   "metadata": {},
   "source": [
    "# Accuracy score of all the trained model"
   ]
  },
  {
   "cell_type": "code",
   "execution_count": 29,
   "metadata": {},
   "outputs": [
    {
     "name": "stdout",
     "output_type": "stream",
     "text": [
      "Random Forest  0.897\n",
      "Logistic Regression 0.895\n",
      "Decision Tree 0.882\n",
      "KNN 0.76\n"
     ]
    }
   ],
   "source": [
    "score_regression=accuracy_score(y_test,y_perdict_regression)\n",
    "score_tree=accuracy_score(y_test, y_perdict_tree)\n",
    "score_knn=accuracy_score(y_test, y_predict_knn)\n",
    "my_RandomForest_accuracy=accuracy_score(y_test,predict_my_RandomForest)\n",
    "\n",
    "print('Random Forest ',my_RandomForest_accuracy)\n",
    "print('Logistic Regression',score_regression)\n",
    "print('Decision Tree',score_tree)\n",
    "print('KNN',score_knn)"
   ]
  },
  {
   "cell_type": "markdown",
   "metadata": {},
   "source": [
    "# True Positive and False Positive"
   ]
  },
  {
   "cell_type": "code",
   "execution_count": 30,
   "metadata": {},
   "outputs": [
    {
     "name": "stdout",
     "output_type": "stream",
     "text": [
      "LogisticRegression\n",
      "[0.         0.11642412 1.        ]\n",
      "[0.         0.90558767 1.        ]\n",
      "\n",
      "\n",
      "\n",
      "\n",
      "KNN\n",
      "[0.         0.22037422 1.        ]\n",
      "[0.         0.74181118 1.        ]\n",
      "\n",
      "\n",
      "\n",
      "\n",
      "Decision Tree\n",
      "[0.         0.13929314 1.        ]\n",
      "[0.        0.9017341 1.       ]\n",
      "\n",
      "\n",
      "\n",
      "\n",
      "Random Forest\n",
      "[0.        0.0956341 1.       ]\n",
      "[0.         0.89017341 1.        ]\n"
     ]
    }
   ],
   "source": [
    "from sklearn import metrics\n",
    "\n",
    "fpr_reg, tpr_reg, thresholds_reg = metrics.roc_curve(y_test.ravel(), y_perdict_regression.ravel())\n",
    "fpr_knn, tpr_knn, thresholds_knn = metrics.roc_curve(y_test.ravel(), y_predict_knn.ravel())\n",
    "fpr_tree, tpr_tree, thresholds_tree = metrics.roc_curve(y_test.ravel(), y_perdict_tree.ravel())\n",
    "fpr_rtree, tpr_rtree, thresholds_rtree = metrics.roc_curve(y_test.ravel(), predict_my_RandomForest.ravel())\n",
    "print(\"LogisticRegression\")\n",
    "print(fpr_reg)\n",
    "print(tpr_reg)\n",
    "print(\"\\n\\n\\n\")\n",
    "print(\"KNN\")\n",
    "print(fpr_knn)\n",
    "print(tpr_knn)\n",
    "print(\"\\n\\n\\n\")\n",
    "print(\"Decision Tree\")\n",
    "print(fpr_tree)\n",
    "print(tpr_tree)\n",
    "print(\"\\n\\n\\n\")\n",
    "print(\"Random Forest\")\n",
    "print(fpr_rtree)\n",
    "print(tpr_rtree)"
   ]
  },
  {
   "cell_type": "code",
   "execution_count": 31,
   "metadata": {},
   "outputs": [
    {
     "name": "stdout",
     "output_type": "stream",
     "text": [
      "AUC Regression\n",
      "0.8945817760846663\n",
      "\n",
      "\n",
      "\n",
      "\n",
      "AUC Tree\n",
      "0.8812204823765516\n",
      "\n",
      "\n",
      "\n",
      "\n",
      "AUC KNN\n",
      "0.7607184774814831\n",
      "\n",
      "\n",
      "\n",
      "\n",
      "AUC Random Forest\n",
      "0.7607184774814831\n"
     ]
    }
   ],
   "source": [
    "# AUC:\n",
    "AUC_reg = metrics.auc(fpr_reg, tpr_reg)\n",
    "AUC_tree = metrics.auc(fpr_tree, tpr_tree)\n",
    "AUC_knn = metrics.auc(fpr_knn, tpr_knn)\n",
    "AUC_rtree = metrics.auc(fpr_rtree, tpr_rtree)\n",
    "print(\"AUC Regression\")\n",
    "print(AUC_reg)\n",
    "print(\"\\n\\n\\n\")\n",
    "print(\"AUC Tree\")\n",
    "print(AUC_tree)\n",
    "print(\"\\n\\n\\n\")\n",
    "print(\"AUC KNN\")\n",
    "print(AUC_knn)\n",
    "print(\"\\n\\n\\n\")\n",
    "print(\"AUC Random Forest\")\n",
    "print(AUC_knn)"
   ]
  },
  {
   "cell_type": "code",
   "execution_count": 32,
   "metadata": {},
   "outputs": [
    {
     "name": "stdout",
     "output_type": "stream",
     "text": [
      "\n",
      "\n",
      "\n",
      "\n"
     ]
    },
    {
     "data": {
      "image/png": "[encoded data removed]",
      "text/plain": [
       "<Figure size 432x288 with 1 Axes>"
      ]
     },
     "metadata": {
      "needs_background": "light"
     },
     "output_type": "display_data"
    }
   ],
   "source": [
    "# Importing the \"pyplot\" package of \"matplotlib\" library of python to generate \n",
    "# graphs and plot curves:\n",
    "import matplotlib.pyplot as plt\n",
    "\n",
    "# The following line will tell Jupyter Notebook to keep the figures inside the explorer page \n",
    "# rather than openng a new figure window:\n",
    "%matplotlib inline\n",
    "\n",
    "plt.figure()\n",
    "\n",
    "# Roc Curve:\n",
    "plt.plot(fpr_reg, tpr_reg, color='red', lw=2, \n",
    "         label='ROC Curve (regression = %0.2f)' % AUC_reg)\n",
    "\n",
    "plt.plot(fpr_tree, tpr_tree, color='green', lw=2, \n",
    "         label='ROC Curve (tree = %0.2f)' % AUC_tree)\n",
    "\n",
    "plt.plot(fpr_knn, tpr_knn, color='yellow', lw=2, \n",
    "         label='ROC Curve (knn = %0.2f)' % AUC_knn)\n",
    "\n",
    "plt.plot(fpr_rtree, tpr_rtree, color='black', lw=2, \n",
    "         label='ROC Curve (Random Forest = %0.2f)' % AUC_rtree)\n",
    "\n",
    "# Random Guess line:\n",
    "plt.plot([0, 1], [0, 1], color='blue', lw=1, linestyle='--')\n",
    "\n",
    "# Defining The Range of X-Axis and Y-Axis:\n",
    "plt.xlim([-0.005, 1.005])\n",
    "plt.ylim([0.0, 1.01])\n",
    "\n",
    "\n",
    "# Labels, Title, Legend:\n",
    "plt.xlabel('False Positive Rate')\n",
    "plt.ylabel('True Positive Rate')\n",
    "plt.title('Receiver operating characteristic')\n",
    "plt.legend(loc=\"lower right\")\n",
    "print(\"\\n\\n\\n\")\n",
    "plt.show()"
   ]
  },
  {
   "cell_type": "code",
   "execution_count": 33,
   "metadata": {},
   "outputs": [
    {
     "name": "stdout",
     "output_type": "stream",
     "text": [
      "0.324037034920393\n"
     ]
    }
   ],
   "source": [
    "from sklearn import metrics\n",
    "import numpy as np\n",
    "\n",
    "# Calculating \"Mean Square Error\" (MSE):\n",
    "mse = metrics.mean_squared_error(y_test, y_perdict_regression)\n",
    "\n",
    "# Using numpy sqrt function to take the square root and calculate \"Root Mean Square Error\" (RMSE)\n",
    "rmse = np.sqrt(mse)\n",
    "\n",
    "print(rmse)"
   ]
  },
  {
   "cell_type": "markdown",
   "metadata": {},
   "source": [
    "# Plotting of Predicition and Target Label for Logistic Regression."
   ]
  },
  {
   "cell_type": "code",
   "execution_count": 34,
   "metadata": {},
   "outputs": [
    {
     "data": {
      "image/png": "[encoded data removed]",
      "text/plain": [
       "<Figure size 432x288 with 1 Axes>"
      ]
     },
     "metadata": {
      "needs_background": "light"
     },
     "output_type": "display_data"
    }
   ],
   "source": [
    "import seaborn as sns\n",
    "import matplotlib.pyplot as plt\n",
    "y_predict_ln = log_reg.predict(X_test)\n",
    "fig, ax = plt.subplots()\n",
    "ax.scatter(y_test, y_predict_ln, edgecolors=(0, 0, 0))\n",
    "ax.plot([y_test.min(), y_test.max()], [y_test.min(), y_test.max()], 'k--', lw=4)\n",
    "ax.set_xlabel('Measured')\n",
    "ax.set_ylabel('Predicted')\n",
    "plt.show()"
   ]
  },
  {
   "cell_type": "markdown",
   "metadata": {},
   "source": [
    "# cross - validation in sklearn\n",
    "1. Logistic Regression\n"
   ]
  },
  {
   "cell_type": "code",
   "execution_count": 35,
   "metadata": {},
   "outputs": [
    {
     "name": "stdout",
     "output_type": "stream",
     "text": [
      "[0.914 0.888 0.89  0.912 0.908 0.888 0.894 0.912 0.904 0.886]\n"
     ]
    }
   ],
   "source": [
    "accuracy_list = cross_val_score(log_reg,X, y, cv=10, scoring='accuracy')\n",
    "\n",
    "print(accuracy_list)"
   ]
  },
  {
   "cell_type": "code",
   "execution_count": 36,
   "metadata": {},
   "outputs": [
    {
     "name": "stdout",
     "output_type": "stream",
     "text": [
      "Orginial Accuracy 0.895\n",
      "Cross-Validation Accuracy 0.8996000000000001\n"
     ]
    }
   ],
   "source": [
    "# use average of accuracy values as final result\n",
    "accuracy_cv = accuracy_list.mean()\n",
    "print(\"Orginial Accuracy\",score_regression)\n",
    "print(\"Cross-Validation Accuracy\",accuracy_cv)"
   ]
  },
  {
   "cell_type": "markdown",
   "metadata": {},
   "source": [
    "# 2. Decision Tree"
   ]
  },
  {
   "cell_type": "code",
   "execution_count": 37,
   "metadata": {},
   "outputs": [
    {
     "name": "stdout",
     "output_type": "stream",
     "text": [
      "[0.89  0.888 0.888 0.9   0.908 0.882 0.91  0.902 0.896 0.886]\n"
     ]
    }
   ],
   "source": [
    "#Cross-validation for Decision Tree\n",
    "\n",
    "accuracy_list = cross_val_score(dec_tree, X, y, cv=10, scoring='accuracy')\n",
    "print(accuracy_list)"
   ]
  },
  {
   "cell_type": "code",
   "execution_count": 38,
   "metadata": {},
   "outputs": [
    {
     "name": "stdout",
     "output_type": "stream",
     "text": [
      "Orginial Accuracy ==> 0.882\n",
      "Cross-Validation Accuracy ==> 0.8949999999999999\n"
     ]
    }
   ],
   "source": [
    "accuracy_cv = accuracy_list.mean()\n",
    "\n",
    "print(\"Orginial Accuracy ==>\",score_tree)\n",
    "print(\"Cross-Validation Accuracy ==>\",accuracy_cv)"
   ]
  },
  {
   "cell_type": "markdown",
   "metadata": {},
   "source": [
    "# 3. KNN"
   ]
  },
  {
   "cell_type": "code",
   "execution_count": null,
   "metadata": {},
   "outputs": [],
   "source": [
    "#Cross-validation for KNN\n",
    "\n",
    "accuracy_list = cross_val_score(knn, X, y, cv=10, scoring='accuracy')\n",
    "print(accuracy_list)"
   ]
  },
  {
   "cell_type": "code",
   "execution_count": null,
   "metadata": {},
   "outputs": [],
   "source": [
    "accuracy_cv = accuracy_list.mean()\n",
    "\n",
    "print(\"Orginial Accuracy ==>\",score_knn)\n",
    "print(\"Cross-Validation Accuracy ==>\",accuracy_cv)"
   ]
  },
  {
   "cell_type": "markdown",
   "metadata": {},
   "source": [
    "# 4.  Random Forest"
   ]
  },
  {
   "cell_type": "code",
   "execution_count": 72,
   "metadata": {},
   "outputs": [
    {
     "name": "stdout",
     "output_type": "stream",
     "text": [
      "[0.902 0.904 0.908 0.914 0.902 0.886 0.914 0.932 0.9   0.868]\n"
     ]
    }
   ],
   "source": [
    "#Cross-validation for Random Forest\n",
    "\n",
    "accuracy_list = cross_val_score(my_RandomForest, X, y, cv=10, scoring='accuracy')\n",
    "print(accuracy_list)"
   ]
  },
  {
   "cell_type": "code",
   "execution_count": 73,
   "metadata": {},
   "outputs": [
    {
     "name": "stdout",
     "output_type": "stream",
     "text": [
      "Orginial Accuracy ==> 0.884\n",
      "Cross-Validation Accuracy ==> 0.9030000000000001\n"
     ]
    }
   ],
   "source": [
    "accuracy_cv = accuracy_list.mean()\n",
    "\n",
    "print(\"Orginial Accuracy ==>\",my_RandomForest_accuracy)\n",
    "print(\"Cross-Validation Accuracy ==>\",accuracy_cv)"
   ]
  },
  {
   "cell_type": "markdown",
   "metadata": {},
   "source": [
    "# SVM Implementation"
   ]
  },
  {
   "cell_type": "code",
   "execution_count": 74,
   "metadata": {},
   "outputs": [
    {
     "data": {
      "text/plain": [
       "SVC(C=5, cache_size=200, class_weight=None, coef0=0.0,\n",
       "  decision_function_shape='ovr', degree=3, gamma=0.0005, kernel='rbf',\n",
       "  max_iter=-1, probability=False, random_state=1, shrinking=True,\n",
       "  tol=0.001, verbose=False)"
      ]
     },
     "execution_count": 74,
     "metadata": {},
     "output_type": "execute_result"
    }
   ],
   "source": [
    "svm_model=svm.SVC(C=5, kernel='rbf', gamma=0.0005, random_state=1)\n",
    "svm_model.fit(X_Train_new, y_train)"
   ]
  },
  {
   "cell_type": "code",
   "execution_count": 75,
   "metadata": {},
   "outputs": [
    {
     "name": "stdout",
     "output_type": "stream",
     "text": [
      "0.88\n"
     ]
    }
   ],
   "source": [
    "svm_predict=svm_model.predict(X_Test_new)\n",
    "score_svm = accuracy_score(y_test, svm_predict)\n",
    "print(score_svm)"
   ]
  },
  {
   "cell_type": "code",
   "execution_count": 76,
   "metadata": {},
   "outputs": [
    {
     "name": "stdout",
     "output_type": "stream",
     "text": [
      "Confusion matrix:\n",
      "[[448  58]\n",
      " [ 62 432]]\n"
     ]
    }
   ],
   "source": [
    "from sklearn import metrics\n",
    "\n",
    "confusion_svm = metrics.confusion_matrix(y_test, svm_predict)\n",
    "\n",
    "print(\"Confusion matrix:\")\n",
    "print(confusion_svm)"
   ]
  },
  {
   "cell_type": "code",
   "execution_count": 77,
   "metadata": {},
   "outputs": [
    {
     "name": "stdout",
     "output_type": "stream",
     "text": [
      "[0.888 0.904 0.912 0.906 0.908 0.882 0.914 0.928 0.908 0.884]\n"
     ]
    }
   ],
   "source": [
    "# CV:\n",
    "accuracy_list = cross_val_score(svm_model,X, y, cv=10, scoring='accuracy')\n",
    "\n",
    "print(accuracy_list)"
   ]
  },
  {
   "cell_type": "code",
   "execution_count": 78,
   "metadata": {},
   "outputs": [
    {
     "name": "stdout",
     "output_type": "stream",
     "text": [
      "0.9034000000000001\n"
     ]
    }
   ],
   "source": [
    "# use average of accuracy values as final result\n",
    "accuracy_cv = accuracy_list.mean()\n",
    "\n",
    "print(accuracy_cv)"
   ]
  },
  {
   "cell_type": "code",
   "execution_count": 79,
   "metadata": {},
   "outputs": [
    {
     "data": {
      "image/png": "[encoded data removed]",
      "text/plain": [
       "<Figure size 432x288 with 1 Axes>"
      ]
     },
     "metadata": {
      "needs_background": "light"
     },
     "output_type": "display_data"
    }
   ],
   "source": [
    "y_predict_ln = svm_model.predict(X_Test_new)\n",
    "fig, ax = plt.subplots()\n",
    "ax.scatter(y_test, y_predict_ln, edgecolors=(0, 0, 0))\n",
    "ax.plot([y_test.min(), y_test.max()], [y_test.min(), y_test.max()], 'k--', lw=4)\n",
    "ax.set_xlabel('Measured')\n",
    "ax.set_ylabel('Predicted')\n",
    "plt.show()"
   ]
  },
  {
   "cell_type": "code",
   "execution_count": 80,
   "metadata": {},
   "outputs": [
    {
     "name": "stdout",
     "output_type": "stream",
     "text": [
      "0.34641016151377546\n"
     ]
    }
   ],
   "source": [
    "from sklearn import metrics\n",
    "import numpy as np\n",
    "\n",
    "# Calculating \"Mean Square Error\" (MSE):\n",
    "mse2 = metrics.mean_squared_error(y_test, svm_predict)\n",
    "\n",
    "# Using numpy sqrt function to take the square root and calculate \"Root Mean Square Error\" (RMSE)\n",
    "rmse2 = np.sqrt(mse2)\n",
    "\n",
    "print(rmse2)"
   ]
  }
 ],
 "metadata": {
  "kernelspec": {
   "display_name": "Python 3",
   "language": "python",
   "name": "python3"
  },
  "language_info": {
   "codemirror_mode": {
    "name": "ipython",
    "version": 3
   },
   "file_extension": ".py",
   "mimetype": "text/x-python",
   "name": "python",
   "nbconvert_exporter": "python",
   "pygments_lexer": "ipython3",
   "version": "3.7.0"
  }
 },
 "nbformat": 4,
 "nbformat_minor": 2
}
